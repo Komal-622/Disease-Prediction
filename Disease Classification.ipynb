{
 "cells": [
  {
   "cell_type": "markdown",
   "id": "7317d542",
   "metadata": {},
   "source": [
    "## Modules"
   ]
  },
  {
   "cell_type": "code",
   "execution_count": 1,
   "id": "03350973",
   "metadata": {},
   "outputs": [],
   "source": [
    "import pandas as pd\n",
    "import numpy as np\n",
    "import matplotlib.pyplot as plt\n",
    "import seaborn as sns"
   ]
  },
  {
   "cell_type": "markdown",
   "id": "feef355a",
   "metadata": {},
   "source": [
    "# Data Importing"
   ]
  },
  {
   "cell_type": "code",
   "execution_count": 2,
   "id": "251a8810",
   "metadata": {},
   "outputs": [
    {
     "name": "stdout",
     "output_type": "stream",
     "text": [
      "   abdominal_pain  abnormal_menstruation  acidity  acute_liver_failure  \\\n",
      "0               0                      0        0                    0   \n",
      "1               0                      0        0                    0   \n",
      "2               0                      0        0                    0   \n",
      "3               0                      0        0                    0   \n",
      "4               0                      0        0                    0   \n",
      "\n",
      "   altered_sensorium  anxiety  back_pain  belly_pain  blackheads  \\\n",
      "0                  0        0          0           0           0   \n",
      "1                  0        0          0           0           0   \n",
      "2                  0        0          0           0           0   \n",
      "3                  0        0          0           0           0   \n",
      "4                  0        0          0           0           0   \n",
      "\n",
      "   bladder_discomfort  ...  watering_from_eyes  weakness_in_limbs  \\\n",
      "0                   0  ...                   0                  0   \n",
      "1                   0  ...                   0                  0   \n",
      "2                   0  ...                   0                  0   \n",
      "3                   0  ...                   0                  0   \n",
      "4                   0  ...                   0                  0   \n",
      "\n",
      "   weakness_of_one_body_side  weight_gain  weight_loss  yellow_crust_ooze  \\\n",
      "0                          0            0            0                  0   \n",
      "1                          0            0            0                  0   \n",
      "2                          0            0            0                  0   \n",
      "3                          0            0            0                  0   \n",
      "4                          0            0            0                  0   \n",
      "\n",
      "   yellow_urine  yellowing_of_eyes  yellowish_skin  prognosis  \n",
      "0             0                  0               0       AIDS  \n",
      "1             0                  0               0       AIDS  \n",
      "2             0                  0               0       AIDS  \n",
      "3             0                  0               0       AIDS  \n",
      "4             0                  0               0       AIDS  \n",
      "\n",
      "[5 rows x 135 columns]\n",
      "   abdominal_pain  abnormal_menstruation  acidity  acute_liver_failure  \\\n",
      "0               0                      0        0                    0   \n",
      "1               0                      0        0                    0   \n",
      "2               1                      0        0                    0   \n",
      "3               0                      0        0                    0   \n",
      "4               0                      0        0                    0   \n",
      "\n",
      "   altered_sensorium  anxiety  back_pain  belly_pain  blackheads  \\\n",
      "0                  0        0          0           0           0   \n",
      "1                  0        0          0           0           1   \n",
      "2                  0        0          0           0           0   \n",
      "3                  0        0          0           0           0   \n",
      "4                  0        0          0           0           0   \n",
      "\n",
      "   bladder_discomfort  ...  watering_from_eyes  weakness_in_limbs  \\\n",
      "0                   0  ...                   0                  0   \n",
      "1                   0  ...                   0                  0   \n",
      "2                   0  ...                   0                  0   \n",
      "3                   0  ...                   1                  0   \n",
      "4                   0  ...                   0                  0   \n",
      "\n",
      "   weakness_of_one_body_side  weight_gain  weight_loss  yellow_crust_ooze  \\\n",
      "0                          0            0            0                  0   \n",
      "1                          0            0            0                  0   \n",
      "2                          0            0            0                  0   \n",
      "3                          0            0            0                  0   \n",
      "4                          0            0            0                  0   \n",
      "\n",
      "   yellow_urine  yellowing_of_eyes  yellowish_skin            prognosis  \n",
      "0             0                  0               0                 AIDS  \n",
      "1             0                  0               0                 Acne  \n",
      "2             0                  0               1  Alcoholic hepatitis  \n",
      "3             0                  0               0              Allergy  \n",
      "4             0                  0               0            Arthritis  \n",
      "\n",
      "[5 rows x 135 columns]\n"
     ]
    }
   ],
   "source": [
    "df=pd.read_csv(\"C:/Users/komal/OneDrive/Documents/college/Datasets/Covid Symptoms/Training.csv\")\n",
    "print(df.head())\n",
    "df1=pd.read_csv(\"C:/Users/komal/OneDrive/Documents/college/Datasets/Covid Symptoms/Testing.csv\")\n",
    "print(df1.head())"
   ]
  },
  {
   "cell_type": "markdown",
   "id": "6f0dd841",
   "metadata": {},
   "source": [
    "# Training-Testing Data Separation"
   ]
  },
  {
   "cell_type": "code",
   "execution_count": 3,
   "id": "89e42689",
   "metadata": {},
   "outputs": [],
   "source": [
    "x_train=df.iloc[:,:134]\n",
    "y_train=np.ravel(df.iloc[:,134:])\n",
    "x_test=df1.iloc[:,:134]\n",
    "y_test=np.ravel(df1.iloc[:,134:])    "
   ]
  },
  {
   "cell_type": "markdown",
   "id": "92dc4b97",
   "metadata": {},
   "source": [
    "# KNN Classifier"
   ]
  },
  {
   "cell_type": "code",
   "execution_count": 4,
   "id": "c0278fde",
   "metadata": {},
   "outputs": [
    {
     "name": "stdout",
     "output_type": "stream",
     "text": [
      "for k= 1 accuracy is 0.9761904761904762\n",
      "for k= 2 accuracy is 1.0\n",
      "for k= 3 accuracy is 1.0\n",
      "for k= 4 accuracy is 0.9761904761904762\n",
      "for k= 5 accuracy is 0.9761904761904762\n",
      "for k= 6 accuracy is 0.9761904761904762\n",
      "for k= 7 accuracy is 0.9761904761904762\n",
      "for k= 8 accuracy is 0.9761904761904762\n",
      "for k= 9 accuracy is 0.9761904761904762\n"
     ]
    }
   ],
   "source": [
    "from sklearn.neighbors import KNeighborsClassifier\n",
    "from sklearn.metrics import accuracy_score,confusion_matrix\n",
    "for i in range(1,10):\n",
    "    knn=KNeighborsClassifier(n_neighbors=i)\n",
    "    knn.fit(x_train,y_train)\n",
    "    y_predict=knn.predict(x_test)\n",
    "    print(\"for k=\",i,\"accuracy is\",accuracy_score(y_predict,y_test))"
   ]
  },
  {
   "cell_type": "code",
   "execution_count": 5,
   "id": "2acb9d28",
   "metadata": {},
   "outputs": [
    {
     "data": {
      "text/plain": [
       "array([[1, 0, 0, ..., 0, 0, 0],\n",
       "       [0, 1, 0, ..., 0, 0, 0],\n",
       "       [0, 0, 1, ..., 0, 0, 0],\n",
       "       ...,\n",
       "       [0, 0, 0, ..., 1, 0, 0],\n",
       "       [0, 0, 0, ..., 0, 1, 0],\n",
       "       [0, 0, 0, ..., 0, 0, 1]], dtype=int64)"
      ]
     },
     "execution_count": 5,
     "metadata": {},
     "output_type": "execute_result"
    }
   ],
   "source": [
    "from sklearn.metrics import confusion_matrix\n",
    "confusion_matrix(y_test,y_predict)"
   ]
  },
  {
   "cell_type": "code",
   "execution_count": 6,
   "id": "814633dc",
   "metadata": {},
   "outputs": [
    {
     "data": {
      "text/plain": [
       "array(['AIDS', 'Acne', 'Alcoholic hepatitis', 'Allergy', 'Arthritis',\n",
       "       'Bronchial Asthma', 'Cervical spondylosis', 'Chicken pox',\n",
       "       'Chronic cholestasis', 'Common Cold', 'Covid', 'Dengue',\n",
       "       'Diabetes ', 'Dimorphic hemorrhoids(piles)', 'Drug Reaction',\n",
       "       'Fungal infection', 'GERD', 'Gastroenteritis', 'Heart attack',\n",
       "       'Hepatitis A', 'Hepatitis B', 'Hepatitis C', 'Hepatitis D',\n",
       "       'Hepatitis E', 'Hypertension ', 'Hyperthyroidism', 'Hypoglycemia',\n",
       "       'Hypothyroidism', 'Impetigo', 'Jaundice', 'Malaria', 'Migraine',\n",
       "       'Osteoarthritis', 'Paralysis (brain hemorrhage)',\n",
       "       'Paroxysmal Positional Vertigo', 'Peptic ulcer disease',\n",
       "       'Pneumonia', 'Psoriasis', 'Tuberculosis', 'Typhoid',\n",
       "       'Urinary tract infection', 'Varicose veins'], dtype=object)"
      ]
     },
     "execution_count": 6,
     "metadata": {},
     "output_type": "execute_result"
    }
   ],
   "source": [
    "from sklearn.neighbors import KNeighborsClassifier\n",
    "knn=KNeighborsClassifier(n_neighbors=3)\n",
    "knn.fit(x_train,y_train)\n",
    "y_predict=knn.predict(x_test)\n",
    "y_predict    "
   ]
  },
  {
   "cell_type": "code",
   "execution_count": 7,
   "id": "7b29058a",
   "metadata": {},
   "outputs": [
    {
     "name": "stdout",
     "output_type": "stream",
     "text": [
      "1.0\n"
     ]
    }
   ],
   "source": [
    "from sklearn.metrics import accuracy_score,confusion_matrix\n",
    "print(accuracy_score(y_test,y_predict))"
   ]
  },
  {
   "cell_type": "code",
   "execution_count": 8,
   "id": "148abda0",
   "metadata": {},
   "outputs": [
    {
     "data": {
      "text/plain": [
       "<AxesSubplot:>"
      ]
     },
     "execution_count": 8,
     "metadata": {},
     "output_type": "execute_result"
    },
    {
     "data": {
      "image/png": "[encoded data removed]",
      "text/plain": [
       "<Figure size 432x288 with 2 Axes>"
      ]
     },
     "metadata": {
      "needs_background": "light"
     },
     "output_type": "display_data"
    }
   ],
   "source": [
    "conf=confusion_matrix(y_predict,y_test)\n",
    "df_conf= pd.DataFrame(conf)\n",
    "sns.heatmap(df_conf)"
   ]
  },
  {
   "cell_type": "markdown",
   "id": "c587d85b",
   "metadata": {},
   "source": [
    "## Decision Tree Classifier"
   ]
  },
  {
   "cell_type": "code",
   "execution_count": 9,
   "id": "ea6185aa",
   "metadata": {},
   "outputs": [
    {
     "data": {
      "text/plain": [
       "array(['AIDS', 'Acne', 'Alcoholic hepatitis', 'Allergy', 'Arthritis',\n",
       "       'Bronchial Asthma', 'Cervical spondylosis', 'Chicken pox',\n",
       "       'Chronic cholestasis', 'Common Cold', 'Covid', 'Dengue',\n",
       "       'Diabetes ', 'Dimorphic hemorrhoids(piles)', 'Drug Reaction',\n",
       "       'Fungal infection', 'GERD', 'Gastroenteritis', 'Heart attack',\n",
       "       'Hepatitis A', 'Hepatitis B', 'Hepatitis C', 'Hepatitis D',\n",
       "       'Hepatitis E', 'Hypertension ', 'Hyperthyroidism', 'Hypoglycemia',\n",
       "       'Hypothyroidism', 'Impetigo', 'Jaundice', 'Malaria', 'Migraine',\n",
       "       'Osteoarthritis', 'Paralysis (brain hemorrhageH',\n",
       "       'Paroxysmal Positional Vertigo', 'Peptic ulcer disease',\n",
       "       'Pneumonia', 'Psoriasis', 'Tuberculosis', 'Typhoid',\n",
       "       'Urinary tract infection', 'Varicose veins'], dtype=object)"
      ]
     },
     "execution_count": 9,
     "metadata": {},
     "output_type": "execute_result"
    }
   ],
   "source": [
    "from sklearn.tree import DecisionTreeClassifier\n",
    "DT=DecisionTreeClassifier()\n",
    "DT.fit(x_train,y_train)\n",
    "y_predict=DT.predict(x_test)\n",
    "y_predict"
   ]
  },
  {
   "cell_type": "code",
   "execution_count": 10,
   "id": "8dcaa27a",
   "metadata": {},
   "outputs": [
    {
     "data": {
      "text/plain": [
       "0.9761904761904762"
      ]
     },
     "execution_count": 10,
     "metadata": {},
     "output_type": "execute_result"
    }
   ],
   "source": [
    "from sklearn.metrics import accuracy_score, confusion_matrix,classification_report\n",
    "accuracy_score(y_test,y_predict)"
   ]
  },
  {
   "cell_type": "code",
   "execution_count": 11,
   "id": "fda11937",
   "metadata": {},
   "outputs": [
    {
     "data": {
      "text/plain": [
       "<AxesSubplot:>"
      ]
     },
     "execution_count": 11,
     "metadata": {},
     "output_type": "execute_result"
    },
    {
     "data": {
      "image/png": "[encoded data removed]",
      "text/plain": [
       "<Figure size 432x288 with 2 Axes>"
      ]
     },
     "metadata": {
      "needs_background": "light"
     },
     "output_type": "display_data"
    }
   ],
   "source": [
    "conf=confusion_matrix(y_predict,y_test)\n",
    "df_conf= pd.DataFrame(conf)\n",
    "sns.heatmap(df_conf)"
   ]
  },
  {
   "cell_type": "markdown",
   "id": "74b23c4c",
   "metadata": {},
   "source": [
    "## Random Forest Classifier"
   ]
  },
  {
   "cell_type": "code",
   "execution_count": 12,
   "id": "202e9ef8",
   "metadata": {},
   "outputs": [
    {
     "name": "stdout",
     "output_type": "stream",
     "text": [
      "1 = 0.9523809523809523\n",
      "2 = 0.9761904761904762\n",
      "3 = 0.9761904761904762\n",
      "4 = 0.9761904761904762\n",
      "5 = 0.9761904761904762\n",
      "6 = 1.0\n",
      "7 = 1.0\n",
      "8 = 0.9761904761904762\n",
      "9 = 1.0\n",
      "10 = 0.9761904761904762\n",
      "11 = 0.9761904761904762\n",
      "12 = 0.9761904761904762\n",
      "13 = 0.9761904761904762\n",
      "14 = 1.0\n",
      "15 = 0.9761904761904762\n",
      "16 = 0.9761904761904762\n",
      "17 = 0.9761904761904762\n",
      "18 = 1.0\n",
      "19 = 0.9761904761904762\n",
      "20 = 0.9761904761904762\n",
      "21 = 0.9761904761904762\n",
      "22 = 0.9761904761904762\n",
      "23 = 0.9761904761904762\n",
      "24 = 0.9761904761904762\n",
      "25 = 0.9761904761904762\n",
      "26 = 0.9761904761904762\n",
      "27 = 0.9761904761904762\n",
      "28 = 0.9761904761904762\n",
      "29 = 0.9761904761904762\n",
      "30 = 0.9761904761904762\n",
      "31 = 0.9761904761904762\n",
      "32 = 0.9761904761904762\n",
      "33 = 0.9761904761904762\n",
      "34 = 0.9761904761904762\n",
      "35 = 0.9761904761904762\n",
      "36 = 0.9761904761904762\n",
      "37 = 0.9761904761904762\n",
      "38 = 0.9761904761904762\n",
      "39 = 0.9761904761904762\n",
      "40 = 0.9761904761904762\n",
      "41 = 0.9761904761904762\n",
      "42 = 0.9761904761904762\n",
      "43 = 1.0\n",
      "44 = 0.9761904761904762\n",
      "45 = 0.9761904761904762\n",
      "46 = 0.9761904761904762\n",
      "47 = 0.9761904761904762\n",
      "48 = 0.9761904761904762\n",
      "49 = 0.9761904761904762\n",
      "for 6 accuracy is 1.0\n"
     ]
    }
   ],
   "source": [
    "from sklearn.ensemble import RandomForestClassifier\n",
    "from sklearn.metrics import accuracy_score\n",
    "li=[]\n",
    "for i in range(1,50):\n",
    "    RF=RandomForestClassifier(i)\n",
    "    RF.fit(x_train,y_train)\n",
    "    y_predict=RF.predict(x_test)\n",
    "    a=accuracy_score(y_predict,y_test)\n",
    "    print(i,\"=\",a)\n",
    "    li.append(a)\n",
    "accuracy_max=max(li)\n",
    "i=li.index(accuracy_max)\n",
    "print(\"for\",i+1,'accuracy is',accuracy_max)\n",
    "    \n",
    "    \n",
    "    "
   ]
  },
  {
   "cell_type": "code",
   "execution_count": 13,
   "id": "938b1ebf",
   "metadata": {},
   "outputs": [
    {
     "data": {
      "text/plain": [
       "0.9761904761904762"
      ]
     },
     "execution_count": 13,
     "metadata": {},
     "output_type": "execute_result"
    }
   ],
   "source": [
    "from sklearn.ensemble import RandomForestClassifier\n",
    "RF=RandomForestClassifier(2)\n",
    "RF.fit(x_train,y_train)\n",
    "y_predict=RF.predict(x_test)\n",
    "accuracy_score(y_predict,y_test)\n",
    "    "
   ]
  },
  {
   "cell_type": "code",
   "execution_count": 14,
   "id": "2f18155b",
   "metadata": {},
   "outputs": [
    {
     "data": {
      "text/plain": [
       "<AxesSubplot:>"
      ]
     },
     "execution_count": 14,
     "metadata": {},
     "output_type": "execute_result"
    },
    {
     "data": {
      "image/png": "[encoded data removed]",
      "text/plain": [
       "<Figure size 432x288 with 2 Axes>"
      ]
     },
     "metadata": {
      "needs_background": "light"
     },
     "output_type": "display_data"
    }
   ],
   "source": [
    "conf=confusion_matrix(y_predict,y_test)\n",
    "df_conf= pd.DataFrame(conf)\n",
    "sns.heatmap(df_conf)"
   ]
  }
 ],
 "metadata": {
  "kernelspec": {
   "display_name": "Python 3 (ipykernel)",
   "language": "python",
   "name": "python3"
  },
  "language_info": {
   "codemirror_mode": {
    "name": "ipython",
    "version": 3
   },
   "file_extension": ".py",
   "mimetype": "text/x-python",
   "name": "python",
   "nbconvert_exporter": "python",
   "pygments_lexer": "ipython3",
   "version": "3.9.7"
  }
 },
 "nbformat": 4,
 "nbformat_minor": 5
}
